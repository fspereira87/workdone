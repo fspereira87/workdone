{
 "cells": [
  {
   "cell_type": "markdown",
   "id": "0f521f5f-1893-49cd-ad81-1e2ae1ce687e",
   "metadata": {},
   "source": [
    "# Data Science Tools and Ecosystem"
   ]
  },
  {
   "cell_type": "markdown",
   "id": "931b1330-0c42-46fe-9fb7-a882a6d4b85c",
   "metadata": {},
   "source": [
    "### In this noteboook, Data Science Tools and Ecosystem are summarized."
   ]
  },
  {
   "cell_type": "markdown",
   "id": "06292ca6-b02d-4e8e-b9c8-700310740a1e",
   "metadata": {},
   "source": [
    "***Objectives:***\n",
    "- List popular languages of Data Science\n",
    "- List popular libraries of Data Science\n",
    "- List open source tools for Data Science\n",
    "- Give examples of arithmetic python code"
   ]
  },
  {
   "cell_type": "markdown",
   "id": "36278c90-3a3e-4a16-9ede-229d1dbc93ef",
   "metadata": {},
   "source": [
    "#### Some of the popular languages that Data Scientists use are:"
   ]
  },
  {
   "cell_type": "markdown",
   "id": "6dfeea31-e67b-4737-a27a-b27f8763c2a7",
   "metadata": {},
   "source": [
    "1. Python\n",
    "2. R\n",
    "3. Julia\n",
    "4. Scava\n",
    "5. Java\n",
    "6. SQL\n",
    "   "
   ]
  },
  {
   "cell_type": "markdown",
   "id": "c93484f5-34ed-4d71-b887-d090fad23a52",
   "metadata": {},
   "source": [
    "Some of the commonly used libraries used by Data Scientists include:"
   ]
  },
  {
   "cell_type": "markdown",
   "id": "e0f1f078-afcb-4575-8439-9aa270d2fee4",
   "metadata": {},
   "source": [
    "1. Numpy\n",
    "2. SciPy\n",
    "3. Sci-Kit"
   ]
  },
  {
   "cell_type": "markdown",
   "id": "04d1a0ee-017d-4986-b101-44df3241aae3",
   "metadata": {},
   "source": [
    "|Data Science Tools|\n",
    "|------------------|\n",
    "| Hadoop |\n",
    "|Spark |\n",
    "|Neo4J|"
   ]
  },
  {
   "cell_type": "markdown",
   "id": "1ff46e51-2a4d-4943-98db-5bbf5cd636df",
   "metadata": {},
   "source": [
    "### Below are a few examples of evaluating arithmetic expression in Python"
   ]
  },
  {
   "cell_type": "code",
   "execution_count": 2,
   "id": "b11b80b3-6009-4445-a016-b7fa52ca017b",
   "metadata": {},
   "outputs": [
    {
     "data": {
      "text/plain": [
       "17"
      ]
     },
     "execution_count": 2,
     "metadata": {},
     "output_type": "execute_result"
    }
   ],
   "source": [
    "# This a simple arithmetic expression to multiply then add integers.\n",
    "\n",
    "(3*4)+5"
   ]
  },
  {
   "cell_type": "code",
   "execution_count": 3,
   "id": "d96b065e-9974-4f32-aa6b-1a1d18597bfc",
   "metadata": {},
   "outputs": [
    {
     "data": {
      "text/plain": [
       "3.3333333333333335"
      ]
     },
     "execution_count": 3,
     "metadata": {},
     "output_type": "execute_result"
    }
   ],
   "source": [
    "# This will  convert 200 minutes to hours by dividing by 60.\n",
    "\n",
    "200/60"
   ]
  },
  {
   "cell_type": "markdown",
   "id": "544014a1-75df-4791-8975-0ee28009d8bb",
   "metadata": {},
   "source": [
    "## Author\n",
    "\n",
    "Filipe Pereira"
   ]
  },
  {
   "cell_type": "code",
   "execution_count": null,
   "id": "02881f5e-aca8-49cd-b735-ee8ee15a09c2",
   "metadata": {},
   "outputs": [],
   "source": []
  }
 ],
 "metadata": {
  "kernelspec": {
   "display_name": "Python 3 (ipykernel)",
   "language": "python",
   "name": "python3"
  },
  "language_info": {
   "codemirror_mode": {
    "name": "ipython",
    "version": 3
   },
   "file_extension": ".py",
   "mimetype": "text/x-python",
   "name": "python",
   "nbconvert_exporter": "python",
   "pygments_lexer": "ipython3",
   "version": "3.12.3"
  }
 },
 "nbformat": 4,
 "nbformat_minor": 5
}
